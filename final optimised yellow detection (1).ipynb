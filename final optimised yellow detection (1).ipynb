{
 "cells": [
  {
   "cell_type": "markdown",
   "id": "35d068b5",
   "metadata": {},
   "source": [
    "# Yellow Detection"
   ]
  },
  {
   "cell_type": "code",
   "execution_count": 1,
   "id": "e277364e",
   "metadata": {},
   "outputs": [],
   "source": [
    "import ipywidgets\n",
    "import traitlets\n",
    "from IPython.display import display\n",
    "from jetcam.utils import bgr8_to_jpeg\n",
    "import cv2\n",
    "import numpy as np"
   ]
  },
  {
   "cell_type": "code",
   "execution_count": 2,
   "id": "dcaf0128",
   "metadata": {
    "ExecuteTime": {
     "end_time": "2024-07-11T07:38:01.262216Z",
     "start_time": "2024-07-11T07:38:00.737590Z"
    }
   },
   "outputs": [],
   "source": [
    "from jetcam.csi_camera import CSICamera\n",
    "camera = CSICamera(width=224,height=224)"
   ]
  },
  {
   "cell_type": "code",
   "execution_count": 3,
   "id": "70703f66",
   "metadata": {},
   "outputs": [],
   "source": [
    "camera.running = True"
   ]
  },
  {
   "cell_type": "code",
   "execution_count": 4,
   "id": "55d93b20",
   "metadata": {},
   "outputs": [
    {
     "name": "stderr",
     "output_type": "stream",
     "text": [
      "WARNING: Carrier board is not from a Jetson Developer Kit.\n",
      "WARNNIG: Jetson.GPIO library has not been verified with this carrier board,\n",
      "WARNING: and in fact is unlikely to work correctly.\n"
     ]
    }
   ],
   "source": [
    "from jetracer.nvidia_racecar import NvidiaRacecar\n",
    "car = NvidiaRacecar()\n"
   ]
  },
  {
   "cell_type": "markdown",
   "id": "d23a51fd",
   "metadata": {},
   "source": [
    "Define the HSV range for the yellow color"
   ]
  },
  {
   "cell_type": "code",
   "execution_count": 18,
   "id": "bae2be22",
   "metadata": {},
   "outputs": [],
   "source": [
    "LOWER_YELLOW_HSV = np.array([11, 80, 87])\n",
    "UPPER_YELLOW_HSV = np.array([22, 136, 182])"
   ]
  },
  {
   "cell_type": "markdown",
   "id": "8ab664d3",
   "metadata": {},
   "source": [
    "Smoothing factor for center point calculation"
   ]
  },
  {
   "cell_type": "code",
   "execution_count": 21,
   "id": "2a7cab83",
   "metadata": {},
   "outputs": [],
   "source": [
    "ALPHA = 0.5"
   ]
  },
  {
   "cell_type": "markdown",
   "id": "23e1cd07",
   "metadata": {},
   "source": [
    "Initialize previous center point"
   ]
  },
  {
   "cell_type": "code",
   "execution_count": 7,
   "id": "94c7c179",
   "metadata": {},
   "outputs": [],
   "source": [
    "prev_center = None"
   ]
  },
  {
   "cell_type": "code",
   "execution_count": 8,
   "id": "f7b5806e",
   "metadata": {},
   "outputs": [],
   "source": [
    "contour_widget = ipywidgets.Image(format='jpeg', width=camera.width, height=camera.height)"
   ]
  },
  {
   "cell_type": "markdown",
   "id": "652e3d90",
   "metadata": {},
   "source": [
    "Create image preview widget,\n",
    "Display the camera widget"
   ]
  },
  {
   "cell_type": "code",
   "execution_count": 9,
   "id": "e7fa16e6",
   "metadata": {},
   "outputs": [
    {
     "data": {
      "application/vnd.jupyter.widget-view+json": {
       "model_id": "e11828cc88e4481b9607fd828034e41a",
       "version_major": 2,
       "version_minor": 0
      },
      "text/plain": [
       "Image(value=b'\\xff\\xd8\\xff\\xe0\\x00\\x10JFIF\\x00\\x01\\x01\\x00\\x00\\x01\\x00\\x01\\x00\\x00\\xff\\xdb\\x00C\\x00\\x02\\x01\\x0…"
      ]
     },
     "metadata": {},
     "output_type": "display_data"
    }
   ],
   "source": [
    "camera_widget = ipywidgets.Image(width=camera.width, height=camera.height)\n",
    "traitlets.dlink((camera, 'value'), (camera_widget, 'value'), transform=bgr8_to_jpeg)\n",
    "display(camera_widget)"
   ]
  },
  {
   "cell_type": "markdown",
   "id": "4e7464a2",
   "metadata": {},
   "source": [
    "# Display sliders for steering gain, bias, and throttle"
   ]
  },
  {
   "cell_type": "code",
   "execution_count": 17,
   "id": "d2999d37",
   "metadata": {},
   "outputs": [
    {
     "data": {
      "application/vnd.jupyter.widget-view+json": {
       "model_id": "58606e261e1c4871882c3f8b740da68a",
       "version_major": 2,
       "version_minor": 0
      },
      "text/plain": [
       "HBox(children=(VBox(children=(FloatSlider(value=-0.7, description='Steering Gain', layout=Layout(width='300px'…"
      ]
     },
     "metadata": {},
     "output_type": "display_data"
    }
   ],
   "source": [
    "steering_gain_slider = ipywidgets.FloatSlider(description='Steering Gain', min=-1.0, max=1.0, value=-0.7, step=0.01, orientation='horizontal', layout={'width': '300px'})\n",
    "steering_bias_slider = ipywidgets.FloatSlider(description='Steering Bias', min=-0.5, max=0.5, value=0.0, step=0.01, orientation='horizontal', layout={'width': '300px'})\n",
    "steering_value_slider = ipywidgets.FloatSlider(description='Steering', min=-1.0, max=1.0, value=0, step=0.01, orientation='horizontal', disabled=False, layout={'width': '400px'})\n",
    "throttle_slider = ipywidgets.FloatSlider(description='Throttle', min=-1.0, max=1.0, value=0.07, step=0.01, orientation='vertical')\n",
    "\n",
    "# Link sliders to car properties\n",
    "steering_gain_link = traitlets.link((steering_gain_slider, 'value'), (car, 'steering_gain'))\n",
    "steering_offset_link = traitlets.link((steering_bias_slider, 'value'), (car, 'steering_offset'))\n",
    "throttle_slider_link = traitlets.link((throttle_slider, 'value'), (car, 'throttle'))\n",
    "\n",
    "display(ipywidgets.HBox([\n",
    "    ipywidgets.VBox([steering_gain_slider, steering_bias_slider, steering_value_slider]),\n",
    "    throttle_slider, camera_widget, contour_widget\n",
    "]))"
   ]
  },
  {
   "cell_type": "markdown",
   "id": "9c54442e",
   "metadata": {},
   "source": [
    "Function to map value ranges"
   ]
  },
  {
   "cell_type": "code",
   "execution_count": 13,
   "id": "4f1e9931",
   "metadata": {},
   "outputs": [],
   "source": [
    "def map_value(value, from_low, from_high, to_low, to_high):\n",
    "    if value is None:\n",
    "        return None\n",
    "    return (value - from_low) * (to_high - to_low) / (from_high - from_low) + to_low"
   ]
  },
  {
   "cell_type": "markdown",
   "id": "4c03abb0",
   "metadata": {},
   "source": [
    "Function to process frame and detect lane"
   ]
  },
  {
   "cell_type": "code",
   "execution_count": 14,
   "id": "28346c42",
   "metadata": {},
   "outputs": [],
   "source": [
    "import cv2\n",
    "import numpy as np\n",
    "\n",
    "# Define the lower and upper bounds for yellow color in HSV\n",
    "LOWER_YELLOW_HSV = np.array([20, 100, 100])\n",
    "UPPER_YELLOW_HSV = np.array([30, 255, 255])\n",
    "\n",
    "# Parameters for center smoothing\n",
    "ALPHA = 0.5\n",
    "prev_center = None\n",
    "\n",
    "def process_frame(frame):\n",
    "    global prev_center\n",
    "\n",
    "    # Convert frame to HSV color space\n",
    "    hsv = cv2.cvtColor(frame, cv2.COLOR_BGR2HSV)\n",
    "\n",
    "    # Threshold the HSV image to get only yellow colors\n",
    "    yellow_mask = cv2.inRange(hsv, LOWER_YELLOW_HSV, UPPER_YELLOW_HSV)\n",
    "\n",
    "    # Apply Gaussian blur to smooth the mask\n",
    "    blurred = cv2.GaussianBlur(yellow_mask, (5, 5), 0)\n",
    "\n",
    "    # Define the region of interest (ROI)\n",
    "    height, width, _ = frame.shape\n",
    "    roi_vertices = [\n",
    "        (0, height),\n",
    "        (0, height // 2),\n",
    "        (width, height // 2),\n",
    "        (width, height)\n",
    "    ]\n",
    "    mask = np.zeros_like(blurred)\n",
    "    cv2.fillPoly(mask, np.array([roi_vertices], np.int32), 255)\n",
    "    masked_blurred = cv2.bitwise_and(blurred, mask)\n",
    "\n",
    "    # Edge detection using Canny\n",
    "    edges = cv2.Canny(masked_blurred, 50, 150)\n",
    "\n",
    "    # Hough Line Transform to detect lines\n",
    "    lines = cv2.HoughLinesP(edges, 1, np.pi / 180, threshold=50, minLineLength=50, maxLineGap=20)\n",
    "\n",
    "    # Create a blank image with the same dimensions as the original frame\n",
    "    lane_image = np.copy(frame)\n",
    "\n",
    "    # Initialize lists to store the coordinates of the leftmost and rightmost lines\n",
    "    left_lines = []\n",
    "    right_lines = []\n",
    "\n",
    "    # Initialize center coordinates\n",
    "    center_x = None\n",
    "    center_y = None\n",
    "\n",
    "    # Draw the lines on the blank image and store the leftmost and rightmost lines\n",
    "    if lines is not None:\n",
    "        for line in lines:\n",
    "            for x1, y1, x2, y2 in line:\n",
    "                if y1 > height // 2 and y2 > height // 2:  # Filter lines in the ROI\n",
    "                    if x1 < width // 2 and x2 < width // 2:\n",
    "                        left_lines.append((x1, y1, x2, y2))\n",
    "                    elif x1 > width // 2 and x2 > width // 2:\n",
    "                        right_lines.append((x1, y1, x2, y2))\n",
    "\n",
    "    # Draw the leftmost line\n",
    "    if left_lines:\n",
    "        left_line = sorted(left_lines, key=lambda line: line[0])[0]\n",
    "        cv2.line(lane_image, (left_line[0], left_line[1]), (left_line[2], left_line[3]), (0, 255, 0), 5)\n",
    "\n",
    "    # Draw the rightmost line\n",
    "    if right_lines:\n",
    "        right_line = sorted(right_lines, key=lambda line: line[0])[-1]\n",
    "        cv2.line(lane_image, (right_line[0], right_line[1]), (right_line[2], right_line[3]), (0, 255, 0), 5)\n",
    "\n",
    "    # Fill the area between the leftmost and rightmost lines\n",
    "    if left_lines and right_lines:\n",
    "        pts = np.array([\n",
    "            [left_line[0], left_line[1]],\n",
    "            [left_line[2], left_line[3]],\n",
    "            [right_line[2], right_line[3]],\n",
    "            [right_line[0], right_line[1]]\n",
    "        ])\n",
    "        cv2.fillPoly(lane_image, [pts], (0, 255, 0))\n",
    "\n",
    "        # Calculate the center point between the two lines\n",
    "        center_x = (left_line[0] + left_line[2] + right_line[0] + right_line[2]) // 4\n",
    "        center_y = (left_line[1] + left_line[3] + right_line[1] + right_line[3]) // 4\n",
    "\n",
    "        # Smoothing the center point\n",
    "        if prev_center is not None:\n",
    "            center_x = int(ALPHA * center_x + (1 - ALPHA) * prev_center[0])\n",
    "            center_y = int(ALPHA * center_y + (1 - ALPHA) * prev_center[1])\n",
    "\n",
    "        prev_center = (center_x, center_y)\n",
    "\n",
    "        # Ensure the center point is within the ROI\n",
    "        if center_y > height // 2:\n",
    "            # Draw a circle at the center point\n",
    "            cv2.circle(lane_image, (center_x, center_y), 15, (0, 0, 255), -1)\n",
    "    else:\n",
    "        if prev_center is not None:\n",
    "            center_x, center_y = prev_center\n",
    "\n",
    "    # Extract and draw contours\n",
    "    contours, _ = cv2.findContours(yellow_mask, cv2.RETR_EXTERNAL, cv2.CHAIN_APPROX_SIMPLE)\n",
    "    contour_image = np.zeros_like(frame)\n",
    "    cv2.drawContours(contour_image, contours, -1, (0, 255, 0), 2)\n",
    "\n",
    "    # Calculate the center of the detected lanes\n",
    "    if contours:\n",
    "        bounding_boxes = [cv2.boundingRect(contour) for contour in contours]\n",
    "        x_centers = [(x + w // 2) for x, y, w, h in bounding_boxes]\n",
    "        y_centers = [(y + h // 2) for x, y, w, h in bounding_boxes]\n",
    "\n",
    "        if x_centers and y_centers:\n",
    "            avg_x = int(sum(x_centers) / len(x_centers))\n",
    "            avg_y = int(sum(y_centers) / len(y_centers))\n",
    "            cv2.circle(contour_image, (avg_x, avg_y), 10, (0, 0, 255), -1)\n",
    "            center_coordinates = (avg_x, avg_y)\n",
    "        else:\n",
    "            center_coordinates = (0, 0)\n",
    "    else:\n",
    "        center_coordinates = (0, 0)\n",
    "\n",
    "    return lane_image, contour_image, center_coordinates\n"
   ]
  },
  {
   "cell_type": "markdown",
   "id": "b0ff0d9e",
   "metadata": {},
   "source": [
    "Function to update the car's steering based on the center point"
   ]
  },
  {
   "cell_type": "code",
   "execution_count": 15,
   "id": "65aba4e1",
   "metadata": {},
   "outputs": [],
   "source": [
    "def update_frame(change):\n",
    "    frame = change['new']\n",
    "    processed_frame,another, center = process_frame(frame)\n",
    "\n",
    "    if center[0] is not None:\n",
    "        x = map_value(center[0], 0, camera.width, -1.0, 1.0)\n",
    "        steering = (x * steering_gain_slider.value + steering_bias_slider.value)*-1\n",
    "        steering = max(min(steering, 1.0), -1.0)\n",
    "        steering_value_slider.value = steering\n",
    "        car.steering = steering\n",
    "        contour_widget.value = bgr8_to_jpeg(another)\n",
    "\n",
    "    camera_widget.value = bgr8_to_jpeg(processed_frame)"
   ]
  },
  {
   "cell_type": "code",
   "execution_count": 16,
   "id": "47672403",
   "metadata": {},
   "outputs": [],
   "source": [
    "camera.observe(update_frame, names='value')"
   ]
  },
  {
   "cell_type": "code",
   "execution_count": null,
   "id": "be526d5b",
   "metadata": {},
   "outputs": [],
   "source": []
  }
 ],
 "metadata": {
  "kernelspec": {
   "display_name": "Python 3",
   "language": "python",
   "name": "python3"
  },
  "language_info": {
   "codemirror_mode": {
    "name": "ipython",
    "version": 3
   },
   "file_extension": ".py",
   "mimetype": "text/x-python",
   "name": "python",
   "nbconvert_exporter": "python",
   "pygments_lexer": "ipython3",
   "version": "3.6.9"
  }
 },
 "nbformat": 4,
 "nbformat_minor": 5
}
